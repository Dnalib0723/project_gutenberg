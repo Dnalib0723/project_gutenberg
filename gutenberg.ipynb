{
 "cells": [
  {
   "cell_type": "code",
   "execution_count": null,
   "id": "0db23547",
   "metadata": {
    "vscode": {
     "languageId": "plaintext"
    }
   },
   "outputs": [],
   "source": [
    "import requests as req\n",
    "import os, json\n",
    "from bs4 import BeautifulSoup as bs\n",
    "import re\n",
    "\n",
    "# 建立儲存文字檔的資料夾，不存在就新增\n",
    "folderPath = 'project_gutenberg'\n",
    "if not os.path.exists(folderPath):\n",
    "    os.makedirs(folderPath)\n",
    "\n",
    "url = \"https://www.gutenberg.org/browse/languages/zh\"\n",
    "res = req.get(url)\n",
    "soup = bs(res.text, \"html.parser\")\n",
    "\n",
    "list_posts = []\n",
    "pattern = re.compile(r'/ebooks/(\\d+)')\n",
    "chinese_pattern = re.compile(r'^[\\u4e00-\\u9fff]+$')  # Ensures the name consists ONLY of Chinese characters\n",
    "\n",
    "for li in soup.select('div.pgdbbylanguage li.pgdbetext'):\n",
    "    a = li.select_one('a[href]')\n",
    "    if a:\n",
    "        book_id_match = pattern.search(a.get('href'))\n",
    "        book_name = a.get_text().strip()  # Extract book name\n",
    "        \n",
    "        # Apply filtering: Only keep book names that are entirely Chinese characters\n",
    "        if book_id_match and chinese_pattern.match(book_name):\n",
    "            book_id = book_id_match.group(1)\n",
    "            list_posts.append({\n",
    "                '書籍 ID': book_id,\n",
    "                '書名': book_name,\n",
    "                'link': f'https://www.gutenberg.org/cache/epub/{book_id}/pg{book_id}.txt'\n",
    "            })\n",
    "\n",
    "# Print filtered results\n",
    "print(json.dumps(list_posts, indent=4, ensure_ascii=False))\n",
    "\n",
    "\n",
    "for index, obj in enumerate(list_posts):\n",
    "    res_ = req.get(obj['link'])\n",
    "    \n",
    "    chinese_text = re.findall(r'[\\u4e00-\\u9fff]+', res_.text)  # Extract only Chinese characters\n",
    "    filtered_text = ' '.join(chinese_text)  # Join extracted characters into a string\n",
    "\n",
    "    # Corrected filename formatting\n",
    "    filename = os.path.join(folderPath, f\"{obj['書名']}.txt\")\n",
    "    with open(filename, \"w\", encoding=\"utf-8\") as file:\n",
    "        file.write(filtered_text)\n",
    "\n",
    "    print(f\"Saved: {filename}\")"
   ]
  }
 ],
 "metadata": {
  "language_info": {
   "name": "python"
  }
 },
 "nbformat": 4,
 "nbformat_minor": 5
}
